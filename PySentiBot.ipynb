{
 "cells": [
  {
   "cell_type": "code",
   "execution_count": 1,
   "metadata": {
    "collapsed": true
   },
   "outputs": [],
   "source": [
    "# Dependencies\n",
    "import tweepy\n",
    "import json\n",
    "import pandas as pd\n",
    "import numpy as np\n",
    "import matplotlib.pyplot as plt\n",
    "\n",
    "import os\n",
    "\n",
    "import time\n",
    "\n",
    "plt.style.use('seaborn')"
   ]
  },
  {
   "cell_type": "code",
   "execution_count": 2,
   "metadata": {
    "collapsed": true
   },
   "outputs": [],
   "source": [
    "# Import and Initialize Sentiment Analyzer\n",
    "from vaderSentiment.vaderSentiment import SentimentIntensityAnalyzer\n",
    "analyzer = SentimentIntensityAnalyzer()\n",
    "\n",
    "\n",
    "consumer_key = os.getenv(\"bot_consumer_key\")\n",
    "consumer_secret = os.getenv(\"bot_consumer_secret\")\n",
    "access_token = os.getenv(\"bot_access_token\")\n",
    "access_token_secret = os.getenv(\"bot_access_token_secret\")\n"
   ]
  },
  {
   "cell_type": "code",
   "execution_count": 3,
   "metadata": {
    "collapsed": true
   },
   "outputs": [],
   "source": [
    "# Setup Tweepy API Authentication\n",
    "auth = tweepy.OAuthHandler(consumer_key, consumer_secret)\n",
    "auth.set_access_token(access_token, access_token_secret)\n",
    "api = tweepy.API(auth, parser=tweepy.parsers.JSONParser())"
   ]
  },
  {
   "cell_type": "code",
   "execution_count": 5,
   "metadata": {
    "collapsed": true
   },
   "outputs": [],
   "source": [
    "def parse_requests(tweet, tweet_dict=dict()):\n",
    "    tweet_data = []\n",
    "    tweet_id = tweet[\"id\"]\n",
    "    tweet_user = tweet[\"user\"][\"screen_name\"]\n",
    "    tweet_requests = []\n",
    "    print(tweet_id)\n",
    "    for mentions in tweet[\"entities\"][\"user_mentions\"]:\n",
    "        if mentions[\"screen_name\"] != \"PySentiBot\":\n",
    "            tweet_requests.append(mentions[\"screen_name\"])\n",
    "    \n",
    "    tweet_dict = {\"id\":tweet_id,\"user\":tweet_user,\"analysis_requests\":tweet_requests}\n",
    "    return tweet_dict"
   ]
  },
  {
   "cell_type": "code",
   "execution_count": 19,
   "metadata": {
    "collapsed": true
   },
   "outputs": [],
   "source": [
    "def analyze_sentiments(recent_tweets, sentiment_results=list()):\n",
    "    sentiment_results = []\n",
    "    for tweet in recent_tweets:\n",
    "        new_tweet = cleanse_tweet(tweet)\n",
    "        sentiment_result = analyzer.polarity_scores(new_tweet[\"text\"])\n",
    "        sentiment_results.append(sentiment_result)    \n",
    "    return sentiment_results"
   ]
  },
  {
   "cell_type": "code",
   "execution_count": 20,
   "metadata": {
    "collapsed": true
   },
   "outputs": [],
   "source": [
    "def remove_noise(tweet, category, key, result_tweet=dict()):\n",
    "    try:\n",
    "        result_tweet = tweet\n",
    "        tweet_text = tweet.get(\"text\")\n",
    "        tweet_items = tweet.get(\"entities\").get(category)\n",
    "        for item in tweet_items:\n",
    "            replace_str = item[key]\n",
    "            tweet_text = tweet_text.replace(replace_str,\" \")\n",
    "        result_tweet[\"text\"] = tweet_text\n",
    "    except TypeError:\n",
    "        pass\n",
    "    return result_tweet\n",
    "\n",
    "def cleanse_tweet(tweet,result_tweet=dict()):\n",
    "    result_tweet = tweet\n",
    "    result_tweet = remove_noise(result_tweet,\"user_mentions\",\"screen_name\")\n",
    "    result_tweet = remove_noise(result_tweet,\"urls\",\"url\")\n",
    "    result_tweet = remove_noise(result_tweet,\"media\",\"url\")\n",
    "    result_tweet[\"text\"] = result_tweet[\"text\"].replace(\"@\",\"\")\n",
    "    return result_tweet"
   ]
  },
  {
   "cell_type": "code",
   "execution_count": 21,
   "metadata": {
    "collapsed": true
   },
   "outputs": [],
   "source": [
    "def scan_for_requests(since_tweet_id):\n",
    "    search_handle = \"@PySentiBot\"\n",
    "\n",
    "    results = api.search(search_handle,since_id = since_tweet_id)\n",
    "\n",
    "    if(len(results[\"statuses\"]) > 0):\n",
    "        tweet_data = []\n",
    "\n",
    "        for tweet in results[\"statuses\"]:\n",
    "            tweet_data.append(parse_requests(tweet))\n",
    "             "
   ]
  },
  {
   "cell_type": "code",
   "execution_count": 22,
   "metadata": {},
   "outputs": [
    {
     "name": "stdout",
     "output_type": "stream",
     "text": [
      "933930946721648641\n",
      "933930057860599809\n",
      "933929308753719296\n",
      "933752497436610560\n",
      "933745253638696962\n",
      "932152929573834753\n"
     ]
    }
   ],
   "source": [
    "scan_for_requests(0)"
   ]
  },
  {
   "cell_type": "code",
   "execution_count": null,
   "metadata": {
    "collapsed": true
   },
   "outputs": [],
   "source": []
  }
 ],
 "metadata": {
  "kernelspec": {
   "display_name": "Python 3",
   "language": "python",
   "name": "python3"
  },
  "language_info": {
   "codemirror_mode": {
    "name": "ipython",
    "version": 3
   },
   "file_extension": ".py",
   "mimetype": "text/x-python",
   "name": "python",
   "nbconvert_exporter": "python",
   "pygments_lexer": "ipython3",
   "version": "3.6.2"
  }
 },
 "nbformat": 4,
 "nbformat_minor": 2
}
