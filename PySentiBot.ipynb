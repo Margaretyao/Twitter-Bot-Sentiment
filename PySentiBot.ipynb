{
 "cells": [
  {
   "cell_type": "code",
   "execution_count": 1,
   "metadata": {
    "collapsed": true
   },
   "outputs": [],
   "source": [
    "# Dependencies\n",
    "import tweepy\n",
    "import json\n",
    "import pandas as pd\n",
    "import numpy as np\n",
    "import matplotlib.pyplot as plt\n",
    "from datetime import datetime\n",
    "\n",
    "import os\n",
    "\n",
    "import time\n",
    "\n",
    "plt.style.use('fivethirtyeight')"
   ]
  },
  {
   "cell_type": "code",
   "execution_count": 2,
   "metadata": {
    "collapsed": true
   },
   "outputs": [],
   "source": [
    "# Import and Initialize Sentiment Analyzer\n",
    "from vaderSentiment.vaderSentiment import SentimentIntensityAnalyzer\n",
    "analyzer = SentimentIntensityAnalyzer()\n",
    "\n",
    "\n",
    "consumer_key = os.getenv(\"bot_consumer_key\")\n",
    "consumer_secret = os.getenv(\"bot_consumer_secret\")\n",
    "access_token = os.getenv(\"bot_access_token\")\n",
    "access_token_secret = os.getenv(\"bot_access_token_secret\")\n"
   ]
  },
  {
   "cell_type": "code",
   "execution_count": 3,
   "metadata": {
    "collapsed": true
   },
   "outputs": [],
   "source": [
    "# Setup Tweepy API Authentication\n",
    "auth = tweepy.OAuthHandler(consumer_key, consumer_secret)\n",
    "auth.set_access_token(access_token, access_token_secret)\n",
    "api = tweepy.API(auth, parser=tweepy.parsers.JSONParser())"
   ]
  },
  {
   "cell_type": "code",
   "execution_count": 4,
   "metadata": {
    "collapsed": true
   },
   "outputs": [],
   "source": [
    "def parse_requests(tweet, tweet_dict=dict()):\n",
    "    tweet_data = []\n",
    "    tweet_id = tweet[\"id\"]\n",
    "    tweet_user = tweet[\"user\"][\"screen_name\"]\n",
    "    tweet_requests = []\n",
    "    print(tweet_id)\n",
    "    for mentions in tweet[\"entities\"][\"user_mentions\"]:\n",
    "        if mentions[\"screen_name\"] != \"PySentiBot\":\n",
    "            tweet_requests.append(mentions[\"screen_name\"])\n",
    "    \n",
    "    tweet_dict = {\"id\":tweet_id,\"user\":tweet_user,\"analysis_requests\":tweet_requests}\n",
    "    return tweet_dict"
   ]
  },
  {
   "cell_type": "code",
   "execution_count": 13,
   "metadata": {
    "collapsed": true
   },
   "outputs": [],
   "source": [
    "def analyze_sentiments(recent_tweets, sentiment_results=list()):\n",
    "    sentiment_results = []\n",
    "    for tweet in recent_tweets:\n",
    "        new_tweet = cleanse_tweet(tweet)\n",
    "        sentiment_result = analyzer.polarity_scores(new_tweet[\"text\"])\n",
    "        sentiment_result.update({\"tweet_id\":new_tweet[\"id\"]})\n",
    "        sentiment_results.append(sentiment_result)    \n",
    "    return sentiment_results"
   ]
  },
  {
   "cell_type": "code",
   "execution_count": 14,
   "metadata": {
    "collapsed": true
   },
   "outputs": [],
   "source": [
    "def remove_noise(tweet, category, key, result_tweet=dict()):\n",
    "    try:\n",
    "        result_tweet = tweet\n",
    "        tweet_text = tweet.get(\"text\")\n",
    "        tweet_items = tweet.get(\"entities\").get(category)\n",
    "        for item in tweet_items:\n",
    "            replace_str = item[key]\n",
    "            tweet_text = tweet_text.replace(replace_str,\" \")\n",
    "        result_tweet[\"text\"] = tweet_text\n",
    "    except TypeError:\n",
    "        pass\n",
    "    return result_tweet\n",
    "\n",
    "def cleanse_tweet(tweet,result_tweet=dict()):\n",
    "    result_tweet = tweet\n",
    "    result_tweet = remove_noise(result_tweet,\"user_mentions\",\"screen_name\")\n",
    "    result_tweet = remove_noise(result_tweet,\"urls\",\"url\")\n",
    "    result_tweet = remove_noise(result_tweet,\"media\",\"url\")\n",
    "    result_tweet[\"text\"] = result_tweet[\"text\"].replace(\"@\",\"\")\n",
    "    return result_tweet"
   ]
  },
  {
   "cell_type": "code",
   "execution_count": 15,
   "metadata": {
    "collapsed": true
   },
   "outputs": [],
   "source": [
    "def color_map(value):\n",
    "    if(value >= 0): \n",
    "        return 'g'\n",
    "    else:\n",
    "        return 'r'\n",
    "\n",
    "def plot_sentiments(title,sentiments):\n",
    "    df = pd.DataFrame(sentiments)\n",
    "    df = df.reset_index()\n",
    "#     df.plot(kind=\"scatter\",x=\"index\",y=\"compound\",marker=\"o\")\n",
    "    df.plot( 'index', 'compound', linestyle='-', marker='o',alpha=0.75)\n",
    "    plt.ylabel(\"Sentiment score\")\n",
    "    plt.xlabel(\"Tweets\")\n",
    "    plt.title(title)\n",
    "    \n",
    "    filename = \"SentimentAnalysis_of_\"+title+\".png\"\n",
    "    plt.savefig(filename)\n",
    "    \n",
    "    return filename  "
   ]
  },
  {
   "cell_type": "code",
   "execution_count": 16,
   "metadata": {
    "collapsed": true
   },
   "outputs": [],
   "source": [
    "def scan_for_requests(since_tweet_id):\n",
    "    search_handle = \"@PySentimentBot\"\n",
    "\n",
    "    results = api.search(search_handle,since_id = since_tweet_id)\n",
    "\n",
    "    if(len(results[\"statuses\"]) > 0):\n",
    "        tweet_data = []\n",
    "\n",
    "        for tweet in results[\"statuses\"]:\n",
    "            tweet_data.append(parse_requests(tweet))\n",
    "        \n",
    "        for item in tweet_data:\n",
    "\n",
    "            recent_tweets = []\n",
    "\n",
    "            for analyze_request in item[\"analysis_requests\"]:\n",
    "\n",
    "                recent_tweets = api.user_timeline(analyze_request,count=200)\n",
    "\n",
    "                if(len(recent_tweets) > 0):\n",
    "                    sentiments = analyze_sentiments(recent_tweets)\n",
    "                    print(sentiments)\n",
    "                    sentiment_fig = plot_sentiments(analyze_request,sentiments)\n",
    "                    text_status = f\"{datetime.now()} - Thank you for your tweet @{item['user']}! Here is the sentiment analysis of {analyze_request}!\"\n",
    "                    api.update_with_media(filename=sentiment_fig,status=text_status,in_reply_to_status_id=item[\"id\"])\n",
    "                else:\n",
    "                    text_status = f\"{datetime.now()} - Thank you for your tweet @{item['user']}! Sorry, {analyze_request} has no tweets!\" \n",
    "                    api.update_status(text_status)\n",
    "                time.sleep(300)\n",
    "                plt.show()\n",
    "        return results[\"statuses\"][0][\"id\"]\n",
    "    else:\n",
    "        return since_tweet_id"
   ]
  },
  {
   "cell_type": "code",
   "execution_count": 17,
   "metadata": {},
   "outputs": [
    {
     "ename": "TweepError",
     "evalue": "[{'code': 89, 'message': 'Invalid or expired token.'}]",
     "output_type": "error",
     "traceback": [
      "\u001b[1;31m---------------------------------------------------------------------------\u001b[0m",
      "\u001b[1;31mTweepError\u001b[0m                                Traceback (most recent call last)",
      "\u001b[1;32m<ipython-input-17-1e1d73b96afe>\u001b[0m in \u001b[0;36m<module>\u001b[1;34m()\u001b[0m\n\u001b[0;32m      1\u001b[0m \u001b[0msince_tweet_id\u001b[0m \u001b[1;33m=\u001b[0m \u001b[1;36m933930057860599809\u001b[0m\u001b[1;33m\u001b[0m\u001b[0m\n\u001b[0;32m      2\u001b[0m \u001b[1;32mwhile\u001b[0m \u001b[1;32mTrue\u001b[0m\u001b[1;33m:\u001b[0m\u001b[1;33m\u001b[0m\u001b[0m\n\u001b[1;32m----> 3\u001b[1;33m     \u001b[0msince_tweet_id\u001b[0m \u001b[1;33m=\u001b[0m \u001b[0mscan_for_requests\u001b[0m\u001b[1;33m(\u001b[0m\u001b[0msince_tweet_id\u001b[0m\u001b[1;33m)\u001b[0m\u001b[1;33m\u001b[0m\u001b[0m\n\u001b[0m\u001b[0;32m      4\u001b[0m     \u001b[0mtime\u001b[0m\u001b[1;33m.\u001b[0m\u001b[0msleep\u001b[0m\u001b[1;33m(\u001b[0m\u001b[1;36m300\u001b[0m\u001b[1;33m)\u001b[0m\u001b[1;33m\u001b[0m\u001b[0m\n",
      "\u001b[1;32m<ipython-input-16-69a1f468dd8b>\u001b[0m in \u001b[0;36mscan_for_requests\u001b[1;34m(since_tweet_id)\u001b[0m\n\u001b[0;32m      2\u001b[0m     \u001b[0msearch_handle\u001b[0m \u001b[1;33m=\u001b[0m \u001b[1;34m\"@PySentimentBot\"\u001b[0m\u001b[1;33m\u001b[0m\u001b[0m\n\u001b[0;32m      3\u001b[0m \u001b[1;33m\u001b[0m\u001b[0m\n\u001b[1;32m----> 4\u001b[1;33m     \u001b[0mresults\u001b[0m \u001b[1;33m=\u001b[0m \u001b[0mapi\u001b[0m\u001b[1;33m.\u001b[0m\u001b[0msearch\u001b[0m\u001b[1;33m(\u001b[0m\u001b[0msearch_handle\u001b[0m\u001b[1;33m,\u001b[0m\u001b[0msince_id\u001b[0m \u001b[1;33m=\u001b[0m \u001b[0msince_tweet_id\u001b[0m\u001b[1;33m)\u001b[0m\u001b[1;33m\u001b[0m\u001b[0m\n\u001b[0m\u001b[0;32m      5\u001b[0m \u001b[1;33m\u001b[0m\u001b[0m\n\u001b[0;32m      6\u001b[0m     \u001b[1;32mif\u001b[0m\u001b[1;33m(\u001b[0m\u001b[0mlen\u001b[0m\u001b[1;33m(\u001b[0m\u001b[0mresults\u001b[0m\u001b[1;33m[\u001b[0m\u001b[1;34m\"statuses\"\u001b[0m\u001b[1;33m]\u001b[0m\u001b[1;33m)\u001b[0m \u001b[1;33m>\u001b[0m \u001b[1;36m0\u001b[0m\u001b[1;33m)\u001b[0m\u001b[1;33m:\u001b[0m\u001b[1;33m\u001b[0m\u001b[0m\n",
      "\u001b[1;32m~\\Anaconda3\\envs\\py36\\lib\\site-packages\\tweepy\\binder.py\u001b[0m in \u001b[0;36m_call\u001b[1;34m(*args, **kwargs)\u001b[0m\n\u001b[0;32m    243\u001b[0m             \u001b[1;32mreturn\u001b[0m \u001b[0mmethod\u001b[0m\u001b[1;33m\u001b[0m\u001b[0m\n\u001b[0;32m    244\u001b[0m         \u001b[1;32melse\u001b[0m\u001b[1;33m:\u001b[0m\u001b[1;33m\u001b[0m\u001b[0m\n\u001b[1;32m--> 245\u001b[1;33m             \u001b[1;32mreturn\u001b[0m \u001b[0mmethod\u001b[0m\u001b[1;33m.\u001b[0m\u001b[0mexecute\u001b[0m\u001b[1;33m(\u001b[0m\u001b[1;33m)\u001b[0m\u001b[1;33m\u001b[0m\u001b[0m\n\u001b[0m\u001b[0;32m    246\u001b[0m \u001b[1;33m\u001b[0m\u001b[0m\n\u001b[0;32m    247\u001b[0m     \u001b[1;31m# Set pagination mode\u001b[0m\u001b[1;33m\u001b[0m\u001b[1;33m\u001b[0m\u001b[0m\n",
      "\u001b[1;32m~\\Anaconda3\\envs\\py36\\lib\\site-packages\\tweepy\\binder.py\u001b[0m in \u001b[0;36mexecute\u001b[1;34m(self)\u001b[0m\n\u001b[0;32m    227\u001b[0m                     \u001b[1;32mraise\u001b[0m \u001b[0mRateLimitError\u001b[0m\u001b[1;33m(\u001b[0m\u001b[0merror_msg\u001b[0m\u001b[1;33m,\u001b[0m \u001b[0mresp\u001b[0m\u001b[1;33m)\u001b[0m\u001b[1;33m\u001b[0m\u001b[0m\n\u001b[0;32m    228\u001b[0m                 \u001b[1;32melse\u001b[0m\u001b[1;33m:\u001b[0m\u001b[1;33m\u001b[0m\u001b[0m\n\u001b[1;32m--> 229\u001b[1;33m                     \u001b[1;32mraise\u001b[0m \u001b[0mTweepError\u001b[0m\u001b[1;33m(\u001b[0m\u001b[0merror_msg\u001b[0m\u001b[1;33m,\u001b[0m \u001b[0mresp\u001b[0m\u001b[1;33m,\u001b[0m \u001b[0mapi_code\u001b[0m\u001b[1;33m=\u001b[0m\u001b[0mapi_error_code\u001b[0m\u001b[1;33m)\u001b[0m\u001b[1;33m\u001b[0m\u001b[0m\n\u001b[0m\u001b[0;32m    230\u001b[0m \u001b[1;33m\u001b[0m\u001b[0m\n\u001b[0;32m    231\u001b[0m             \u001b[1;31m# Parse the response payload\u001b[0m\u001b[1;33m\u001b[0m\u001b[1;33m\u001b[0m\u001b[0m\n",
      "\u001b[1;31mTweepError\u001b[0m: [{'code': 89, 'message': 'Invalid or expired token.'}]"
     ]
    }
   ],
   "source": [
    "since_tweet_id = 933930057860599809\n",
    "while True:\n",
    "    since_tweet_id = scan_for_requests(since_tweet_id)\n",
    "    time.sleep(300)"
   ]
  },
  {
   "cell_type": "code",
   "execution_count": null,
   "metadata": {
    "collapsed": true
   },
   "outputs": [],
   "source": []
  }
 ],
 "metadata": {
  "kernelspec": {
   "display_name": "Python 3",
   "language": "python",
   "name": "python3"
  },
  "language_info": {
   "codemirror_mode": {
    "name": "ipython",
    "version": 3
   },
   "file_extension": ".py",
   "mimetype": "text/x-python",
   "name": "python",
   "nbconvert_exporter": "python",
   "pygments_lexer": "ipython3",
   "version": "3.6.2"
  }
 },
 "nbformat": 4,
 "nbformat_minor": 2
}
